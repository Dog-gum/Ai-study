{
  "nbformat": 4,
  "nbformat_minor": 0,
  "metadata": {
    "colab": {
      "name": "인공지능 Tutorial",
      "provenance": [],
      "toc_visible": true,
      "authorship_tag": "ABX9TyNE6PG+IatznnPlOmOdP1PE",
      "include_colab_link": true
    },
    "kernelspec": {
      "name": "python3",
      "display_name": "Python 3"
    },
    "language_info": {
      "name": "python"
    }
  },
  "cells": [
    {
      "cell_type": "markdown",
      "metadata": {
        "id": "view-in-github",
        "colab_type": "text"
      },
      "source": [
        "<a href=\"https://colab.research.google.com/github/Dog-gum/Ai-study/blob/main/%EC%9D%B8%EA%B3%B5%EC%A7%80%EB%8A%A5_Tutorial.ipynb\" target=\"_parent\"><img src=\"https://colab.research.google.com/assets/colab-badge.svg\" alt=\"Open In Colab\"/></a>"
      ]
    },
    {
      "cell_type": "code",
      "metadata": {
        "id": "sgDAFga_Wyt3"
      },
      "source": [
        ""
      ],
      "execution_count": null,
      "outputs": []
    },
    {
      "cell_type": "markdown",
      "metadata": {
        "id": "kYA3HJu5YNNv"
      },
      "source": [
        "# 1단원. 나의 첫 머신러닝\n",
        "\n",
        "## 생선 분류 문제\n",
        "주어진 생선이 도미인지 아닌지 구분하는 문제 -> k-최근접 이웃 알고리즘"
      ]
    },
    {
      "cell_type": "markdown",
      "metadata": {
        "id": "BOwy3UliYRt_"
      },
      "source": [
        "## 데이터 준비하기"
      ]
    },
    {
      "cell_type": "markdown",
      "metadata": {
        "id": "ro0EJTTWaG1o"
      },
      "source": [
        "### 도미 데이터"
      ]
    },
    {
      "cell_type": "markdown",
      "metadata": {
        "id": "11Uw9P27dbi3"
      },
      "source": [
        ""
      ]
    },
    {
      "cell_type": "code",
      "metadata": {
        "id": "t-HxMHxRY06C"
      },
      "source": [
        "# 도미의 길이\n",
        "bream_length = [25.4, 26.3, 26.5, 29.0, 29.0, 29.7, 29.7, 30.0, 30.0, 30.7, 31.0, 31.0, \n",
        "                31.5, 32.0, 32.0, 32.0, 33.0, 33.0, 33.5, 33.5, 34.0, 34.0, 34.5, 35.0, \n",
        "                35.0, 35.0, 35.0, 36.0, 36.0, 37.0, 38.5, 38.5, 39.5, 41.0, 41.0]\n",
        "# 도미의 무게\n",
        "bream_weight = [242.0, 290.0, 340.0, 363.0, 430.0, 450.0, 500.0, 390.0, 450.0, 500.0, 475.0, 500.0, \n",
        "                500.0, 340.0, 600.0, 600.0, 700.0, 700.0, 610.0, 650.0, 575.0, 685.0, 620.0, 680.0, \n",
        "                700.0, 725.0, 720.0, 714.0, 850.0, 1000.0, 920.0, 955.0, 925.0, 975.0, 950.0]"
      ],
      "execution_count": 1,
      "outputs": []
    },
    {
      "cell_type": "markdown",
      "metadata": {
        "id": "GPwM3E6TXR4u"
      },
      "source": [
        ""
      ]
    },
    {
      "cell_type": "code",
      "metadata": {
        "colab": {
          "base_uri": "https://localhost:8080/",
          "height": 279
        },
        "id": "HzRufFbFZi5g",
        "outputId": "0a50ed54-988c-4212-b6f6-b820c798d944"
      },
      "source": [
        "import matplotlib.pyplot as plt\n",
        "\n",
        "plt.scatter(bream_length, bream_weight) # 산점도를 그리는 함수 .scatter()\n",
        "plt.xlabel('length')\n",
        "plt.ylabel('weight')\n",
        "plt.show()"
      ],
      "execution_count": 2,
      "outputs": [
        {
          "output_type": "display_data",
          "data": {
            "image/png": "[encoded data removed]",
            "text/plain": [
              "<Figure size 432x288 with 1 Axes>"
            ]
          },
          "metadata": {
            "needs_background": "light"
          }
        }
      ]
    },
    {
      "cell_type": "markdown",
      "metadata": {
        "id": "Rt39JZuNaKeH"
      },
      "source": [
        "### 빙어 데이터"
      ]
    },
    {
      "cell_type": "code",
      "metadata": {
        "id": "5tjbpXucaSJ6"
      },
      "source": [
        "# 빙어의 길이\n",
        "smelt_length = [9.8, 10.5, 10.6, 11.0, 11.2, 11.3, 11.8, 11.8, 12.0, 12.2, 12.4, 13.0, 14.3, 15.0]\n",
        "# 빙어의 무게\n",
        "smelt_weight = [6.7, 7.5, 7.0, 9.7, 9.8, 8.7, 10.0, 9.9, 9.8, 12.2, 13.4, 12.2, 19.7, 19.9]"
      ],
      "execution_count": 3,
      "outputs": []
    },
    {
      "cell_type": "code",
      "metadata": {
        "colab": {
          "base_uri": "https://localhost:8080/",
          "height": 279
        },
        "id": "Cvmz54UfaiDR",
        "outputId": "ef19e9ea-1f8e-4425-bd16-2d9315104e4d"
      },
      "source": [
        "plt.scatter(smelt_length, smelt_weight) # 청색\n",
        "plt.scatter(bream_length, bream_weight) # 주황색\n",
        "plt.xlabel('length')\n",
        "plt.ylabel('weight')\n",
        "plt.show()"
      ],
      "execution_count": 4,
      "outputs": [
        {
          "output_type": "display_data",
          "data": {
            "image/png": "[encoded data removed]",
            "text/plain": [
              "<Figure size 432x288 with 1 Axes>"
            ]
          },
          "metadata": {
            "needs_background": "light"
          }
        }
      ]
    },
    {
      "cell_type": "markdown",
      "metadata": {
        "id": "n1jBod5sbO7p"
      },
      "source": [
        "### 데이터 합치기(scikit-learn 패키지는 2차원 데이터여야함)"
      ]
    },
    {
      "cell_type": "code",
      "metadata": {
        "id": "0tws0d_Jbo8E"
      },
      "source": [
        "length = bream_length + smelt_length\n",
        "weight = bream_weight + smelt_weight\n",
        "\n",
        "# 2차원 데이터로 구성(zip()함수 활용-하나씩 꺼내서 반환)\n",
        "fish_data = [[l,w] for l,w in zip(length, weight)]"
      ],
      "execution_count": 5,
      "outputs": []
    },
    {
      "cell_type": "markdown",
      "metadata": {
        "id": "ScHhJ1Yncjk5"
      },
      "source": [
        "### 정답 데이터"
      ]
    },
    {
      "cell_type": "code",
      "metadata": {
        "id": "GLtMzylccp0P"
      },
      "source": [
        "# 우리가 찾고자하는 생선은 도미이므로 도미 데이터에는 1(정답), 빙어 데이터에는 0(오답)을 넣으면 된다.\n",
        "\n",
        "fish_target = [1]*35+[0]*14"
      ],
      "execution_count": 6,
      "outputs": []
    },
    {
      "cell_type": "markdown",
      "metadata": {
        "id": "6YrGqc3kdjzj"
      },
      "source": [
        "## k-최근접 알고리즘 구현"
      ]
    },
    {
      "cell_type": "markdown",
      "metadata": {
        "id": "VAnAZhkRAHqE"
      },
      "source": [
        "k-최근접 이웃 알고리즘\n",
        "\n",
        "->어떤 데이터에 대한 답을 구할 때 주위의 다른 데이터를 보고 다수를 차지하는 것을 정답으로 판정하는 알고리즘. "
      ]
    },
    {
      "cell_type": "markdown",
      "metadata": {
        "id": "QjamCsYIdqoi"
      },
      "source": [
        "scikit-learn에서 k-최근접 이웃 알고리즘을 구현한 클래스 임포트"
      ]
    },
    {
      "cell_type": "code",
      "metadata": {
        "colab": {
          "base_uri": "https://localhost:8080/"
        },
        "id": "kVnnpz7PdooV",
        "outputId": "96978c32-9b0d-4ab4-848c-d481b76f1432"
      },
      "source": [
        "from sklearn.neighbors import KNeighborsClassifier\n",
        "kn = KNeighborsClassifier()\n",
        "\n",
        "# 훈련(fit()메소드 활용해서 훈련)\n",
        "kn.fit(fish_data, fish_target) \n",
        "\n",
        "# 평가(score()메소드 활용해서 평가)\n",
        "kn.score(fish_data, fish_target) \n",
        "# return된 결과가 1.0이라면 모든 답을 정확히 맞힘.(정확도)"
      ],
      "execution_count": 7,
      "outputs": [
        {
          "output_type": "execute_result",
          "data": {
            "text/plain": [
              "1.0"
            ]
          },
          "metadata": {},
          "execution_count": 7
        }
      ]
    },
    {
      "cell_type": "markdown",
      "metadata": {
        "id": "FLevWXknAhAD"
      },
      "source": [
        "학습된 model을 기준으로 예측하기"
      ]
    },
    {
      "cell_type": "code",
      "metadata": {
        "colab": {
          "base_uri": "https://localhost:8080/",
          "height": 279
        },
        "id": "DM7Tc1sYAxaG",
        "outputId": "f22c0dba-3d05-4817-daa9-35cf8eda15ba"
      },
      "source": [
        "plt.scatter(smelt_length, smelt_weight) # 청색\n",
        "plt.scatter(bream_length, bream_weight) # 주황색\n",
        "plt.scatter(30,600) # 초록색\n",
        "plt.xlabel('length')\n",
        "plt.ylabel('weight')\n",
        "plt.show()"
      ],
      "execution_count": 8,
      "outputs": [
        {
          "output_type": "display_data",
          "data": {
            "image/png": "[encoded data removed]",
            "text/plain": [
              "<Figure size 432x288 with 1 Axes>"
            ]
          },
          "metadata": {
            "needs_background": "light"
          }
        }
      ]
    },
    {
      "cell_type": "markdown",
      "metadata": {
        "id": "CezUUcPVBcyZ"
      },
      "source": [
        "(30,600)이 도미 근처에 있으므로 도미라고 예측하게 될 것(k-최근접 알고리즘)"
      ]
    },
    {
      "cell_type": "code",
      "metadata": {
        "colab": {
          "base_uri": "https://localhost:8080/"
        },
        "id": "4HzuK-DfBaJ4",
        "outputId": "c4ff5146-07b5-4268-b062-6b6bb021e319"
      },
      "source": [
        "kn.predict([[30,600]])"
      ],
      "execution_count": 9,
      "outputs": [
        {
          "output_type": "execute_result",
          "data": {
            "text/plain": [
              "array([1])"
            ]
          },
          "metadata": {},
          "execution_count": 9
        }
      ]
    },
    {
      "cell_type": "markdown",
      "metadata": {
        "id": "scUgpr5FB4FD"
      },
      "source": [
        "### k-근접 알고리즘의 활용"
      ]
    },
    {
      "cell_type": "markdown",
      "metadata": {
        "id": "kqrTg8cICAmQ"
      },
      "source": [
        "새로운 데이터가 주어졌을 떄 비교하는 근접 데이터의 수는 KNeighborsClassifier 클래스의 경우 5개가 기본값. n_neighbors를 매개변수로 바꿀 수 있음."
      ]
    },
    {
      "cell_type": "code",
      "metadata": {
        "colab": {
          "base_uri": "https://localhost:8080/"
        },
        "id": "7mLmGqe1CU3o",
        "outputId": "6ed78efb-ab65-49ae-9f8f-1e28e9542ff7"
      },
      "source": [
        "# 모든 데이터를 비교대상으로 설정할 경우\n",
        "kn49 = KNeighborsClassifier(n_neighbors=49)\n",
        "\n",
        "kn49.fit(fish_data, fish_target)\n",
        "kn49.score(fish_data, fish_target)\n",
        "\n",
        "# 이 경우 전체 데이터에서 도미가 차지하는 비율을 결과로 반환할 것이다."
      ],
      "execution_count": 10,
      "outputs": [
        {
          "output_type": "execute_result",
          "data": {
            "text/plain": [
              "0.7142857142857143"
            ]
          },
          "metadata": {},
          "execution_count": 10
        }
      ]
    },
    {
      "cell_type": "markdown",
      "metadata": {
        "id": "t0jFoo__C9y-"
      },
      "source": [
        "#  2단원. 데이터 다루기"
      ]
    },
    {
      "cell_type": "markdown",
      "metadata": {
        "id": "sAvLeZiCDHpG"
      },
      "source": [
        "## 훈련 세트와 테스트 세트"
      ]
    },
    {
      "cell_type": "markdown",
      "metadata": {
        "id": "de2BOoboDxfu"
      },
      "source": [
        "1단원에서 입력(input), 타깃(target)을 합친 훈련 데이터(training data)와 입력에서 사용된 length와 weight 특성(feature)을 배웠다.\n",
        "그런데, 이 경우 훈련에 사용한 데이터를 평가하는데 그대로 사용했기 때문에 test set와 train set가 겹치게 된다. 그래서 이번에는 train set과 test set을 나눠서 알고리즘을 만들어보겠다."
      ]
    },
    {
      "cell_type": "code",
      "metadata": {
        "colab": {
          "base_uri": "https://localhost:8080/"
        },
        "id": "YwYtZnAlGBgA",
        "outputId": "65b039b6-c664-45a1-d1ea-8c7804d081e0"
      },
      "source": [
        "from sklearn.neighbors import KNeighborsClassifier\n",
        "kn = KNeighborsClassifier()\n",
        "\n",
        "# 데이터 슬라이싱\n",
        "# fish_data는 lenght, weight 데이터를 넣은 것/ fish_target은 도미를 1, 빙어를 0으로 해서 정답과 오답 설정하기.\n",
        "# 0~34번쨰 까지를 train용으로 활용\n",
        "train_input = fish_data[:35]\n",
        "train_target = fish_target[:35]\n",
        "# 35~끝까지를 test용으로 활용\n",
        "test_input = fish_data[35:]\n",
        "test_target = fish_target[35:]\n",
        "\n",
        "# model 훈련시키기\n",
        "kn = kn.fit(train_input, train_target)\n",
        "# model 확인하기\n",
        "kn.score(test_input, test_target)"
      ],
      "execution_count": 11,
      "outputs": [
        {
          "output_type": "execute_result",
          "data": {
            "text/plain": [
              "0.0"
            ]
          },
          "metadata": {},
          "execution_count": 11
        }
      ]
    },
    {
      "cell_type": "markdown",
      "metadata": {
        "id": "mzBTZNtAIRPG"
      },
      "source": [
        "-> 정확도가 0이다!!!!! 최악의 성능을 내고있는 모델."
      ]
    },
    {
      "cell_type": "markdown",
      "metadata": {
        "id": "roVcaj18Ib4L"
      },
      "source": [
        "### 샘플링 편향"
      ]
    },
    {
      "cell_type": "markdown",
      "metadata": {
        "id": "UQ0ZGRmeIfCY"
      },
      "source": [
        "위의 model의 경우 fish_data에서 마지막 14개만을 테스트 세트로 떼어냈다. 빙어 없이 모델을 훈련했기 때문에 정확도가 0이 된 것이다. 즉, 세트를 구성할 때 도미와 빙어를 골고루 섞어서 구성해야한다."
      ]
    },
    {
      "cell_type": "markdown",
      "metadata": {
        "id": "jBCW4O2aI-wO"
      },
      "source": [
        "### 넘파이를 활용해 샘플링 편향을 없애기"
      ]
    },
    {
      "cell_type": "markdown",
      "metadata": {
        "id": "_gAQ11FMKb8w"
      },
      "source": [
        "numpy로 data변형하기"
      ]
    },
    {
      "cell_type": "code",
      "metadata": {
        "colab": {
          "base_uri": "https://localhost:8080/"
        },
        "id": "9AQh_gc4JNf0",
        "outputId": "0dfffcd7-aed5-499d-9052-1b7cfab002f9"
      },
      "source": [
        "import numpy as np\n",
        "\n",
        "input_arr = np.array(fish_data)\n",
        "target_arr = np.array(fish_target)\n",
        "\n",
        "# 리스트와 numpy의 차이점\n",
        "print(fish_data)\n",
        "print(input_arr)\n",
        "\n",
        "# numpy의 array의 배열 크기\n",
        "print(input_arr.shape)\n",
        "# 49개의 샘플과 2개의 특성 "
      ],
      "execution_count": 12,
      "outputs": [
        {
          "output_type": "stream",
          "text": [
            "[[25.4, 242.0], [26.3, 290.0], [26.5, 340.0], [29.0, 363.0], [29.0, 430.0], [29.7, 450.0], [29.7, 500.0], [30.0, 390.0], [30.0, 450.0], [30.7, 500.0], [31.0, 475.0], [31.0, 500.0], [31.5, 500.0], [32.0, 340.0], [32.0, 600.0], [32.0, 600.0], [33.0, 700.0], [33.0, 700.0], [33.5, 610.0], [33.5, 650.0], [34.0, 575.0], [34.0, 685.0], [34.5, 620.0], [35.0, 680.0], [35.0, 700.0], [35.0, 725.0], [35.0, 720.0], [36.0, 714.0], [36.0, 850.0], [37.0, 1000.0], [38.5, 920.0], [38.5, 955.0], [39.5, 925.0], [41.0, 975.0], [41.0, 950.0], [9.8, 6.7], [10.5, 7.5], [10.6, 7.0], [11.0, 9.7], [11.2, 9.8], [11.3, 8.7], [11.8, 10.0], [11.8, 9.9], [12.0, 9.8], [12.2, 12.2], [12.4, 13.4], [13.0, 12.2], [14.3, 19.7], [15.0, 19.9]]\n",
            "[[  25.4  242. ]\n",
            " [  26.3  290. ]\n",
            " [  26.5  340. ]\n",
            " [  29.   363. ]\n",
            " [  29.   430. ]\n",
            " [  29.7  450. ]\n",
            " [  29.7  500. ]\n",
            " [  30.   390. ]\n",
            " [  30.   450. ]\n",
            " [  30.7  500. ]\n",
            " [  31.   475. ]\n",
            " [  31.   500. ]\n",
            " [  31.5  500. ]\n",
            " [  32.   340. ]\n",
            " [  32.   600. ]\n",
            " [  32.   600. ]\n",
            " [  33.   700. ]\n",
            " [  33.   700. ]\n",
            " [  33.5  610. ]\n",
            " [  33.5  650. ]\n",
            " [  34.   575. ]\n",
            " [  34.   685. ]\n",
            " [  34.5  620. ]\n",
            " [  35.   680. ]\n",
            " [  35.   700. ]\n",
            " [  35.   725. ]\n",
            " [  35.   720. ]\n",
            " [  36.   714. ]\n",
            " [  36.   850. ]\n",
            " [  37.  1000. ]\n",
            " [  38.5  920. ]\n",
            " [  38.5  955. ]\n",
            " [  39.5  925. ]\n",
            " [  41.   975. ]\n",
            " [  41.   950. ]\n",
            " [   9.8    6.7]\n",
            " [  10.5    7.5]\n",
            " [  10.6    7. ]\n",
            " [  11.     9.7]\n",
            " [  11.2    9.8]\n",
            " [  11.3    8.7]\n",
            " [  11.8   10. ]\n",
            " [  11.8    9.9]\n",
            " [  12.     9.8]\n",
            " [  12.2   12.2]\n",
            " [  12.4   13.4]\n",
            " [  13.    12.2]\n",
            " [  14.3   19.7]\n",
            " [  15.    19.9]]\n",
            "(49, 2)\n"
          ],
          "name": "stdout"
        }
      ]
    },
    {
      "cell_type": "markdown",
      "metadata": {
        "id": "igD6VmBbKf4d"
      },
      "source": [
        "넘파이에서 무작위 결과를 만드는 함수 활용하기"
      ]
    },
    {
      "cell_type": "code",
      "metadata": {
        "colab": {
          "base_uri": "https://localhost:8080/"
        },
        "id": "JCCtlb5PL39G",
        "outputId": "0ff1a887-bfdb-4c77-ada8-da7737d44a84"
      },
      "source": [
        "np.random.seed(42) # 이 함수는 랜덤하게 뽑아지는 난수를 일정하게 설정하는 함수로 42가 오든 0,1 등 다른 수가 오는지는 중요하지 않다.\n",
        "\n",
        "index = np.arange(49) # 0부터 48까지 1씩 증가하는 수를 만드는 함수\n",
        "print(index)\n",
        "\n",
        "np.random.shuffle(index) # index를 random하게 섞음\n",
        "print(index)"
      ],
      "execution_count": 13,
      "outputs": [
        {
          "output_type": "stream",
          "text": [
            "[ 0  1  2  3  4  5  6  7  8  9 10 11 12 13 14 15 16 17 18 19 20 21 22 23\n",
            " 24 25 26 27 28 29 30 31 32 33 34 35 36 37 38 39 40 41 42 43 44 45 46 47\n",
            " 48]\n",
            "[13 45 47 44 17 27 26 25 31 19 12  4 34  8  3  6 40 41 46 15  9 16 24 33\n",
            " 30  0 43 32  5 29 11 36  1 21  2 37 35 23 39 10 22 18 48 20  7 42 14 28\n",
            " 38]\n"
          ],
          "name": "stdout"
        }
      ]
    },
    {
      "cell_type": "code",
      "metadata": {
        "id": "1-S9g0XBMmps"
      },
      "source": [
        "train_input = input_arr[index[:35]]\n",
        "train_target = target_arr[index[:35]]\n",
        "\n",
        "test_input = input_arr[index[35:]]\n",
        "test_target = target_arr[index[35:]]"
      ],
      "execution_count": 14,
      "outputs": []
    },
    {
      "cell_type": "code",
      "metadata": {
        "colab": {
          "base_uri": "https://localhost:8080/",
          "height": 279
        },
        "id": "w4FeLJA7NG8t",
        "outputId": "86df9524-1ae3-4ccd-8e64-8ffbdfd48f9e"
      },
      "source": [
        "import matplotlib.pyplot as plt\n",
        "\n",
        "# 2차원 배열은 행과 열의 인덱스를 ,를 기준으로 나누어 지정.\n",
        "plt.scatter(train_input[:,0], train_input[:,1])\n",
        "plt.scatter(test_input[:,0], test_input[:,1])\n",
        "plt.xlabel('length')\n",
        "plt.ylabel('weight')\n",
        "plt.show()"
      ],
      "execution_count": 15,
      "outputs": [
        {
          "output_type": "display_data",
          "data": {
            "image/png": "[encoded data removed]",
            "text/plain": [
              "<Figure size 432x288 with 1 Axes>"
            ]
          },
          "metadata": {
            "needs_background": "light"
          }
        }
      ]
    },
    {
      "cell_type": "markdown",
      "metadata": {
        "id": "WqQz4-qkOCHC"
      },
      "source": [
        "머신러닝 model 학습, 검증"
      ]
    },
    {
      "cell_type": "code",
      "metadata": {
        "colab": {
          "base_uri": "https://localhost:8080/"
        },
        "id": "qRKvsbCWOKZK",
        "outputId": "bf9a3db7-acf3-447a-fa86-3c3536e139a0"
      },
      "source": [
        "kn = kn.fit(train_input, train_target)\n",
        "\n",
        "kn.score(test_input, test_target)"
      ],
      "execution_count": 16,
      "outputs": [
        {
          "output_type": "execute_result",
          "data": {
            "text/plain": [
              "1.0"
            ]
          },
          "metadata": {},
          "execution_count": 16
        }
      ]
    },
    {
      "cell_type": "markdown",
      "metadata": {
        "id": "xqHKlOu0d7Gi"
      },
      "source": [
        "## 데이터 전처리"
      ]
    },
    {
      "cell_type": "markdown",
      "metadata": {
        "id": "inSa9QpXC0YN"
      },
      "source": [
        "### 넘파이로 데이터 준비하기"
      ]
    },
    {
      "cell_type": "code",
      "metadata": {
        "id": "8geWJxGRDCHY"
      },
      "source": [
        "fish_length = [25.4, 26.3, 26.5, 29.0, 29.0, 29.7, 29.7, 30.0, 30.0, 30.7, 31.0, 31.0, \n",
        "                31.5, 32.0, 32.0, 32.0, 33.0, 33.0, 33.5, 33.5, 34.0, 34.0, 34.5, 35.0, \n",
        "                35.0, 35.0, 35.0, 36.0, 36.0, 37.0, 38.5, 38.5, 39.5, 41.0, 41.0, 9.8, \n",
        "                10.5, 10.6, 11.0, 11.2, 11.3, 11.8, 11.8, 12.0, 12.2, 12.4, 13.0, 14.3, 15.0]\n",
        "fish_weight = [242.0, 290.0, 340.0, 363.0, 430.0, 450.0, 500.0, 390.0, 450.0, 500.0, 475.0, 500.0, \n",
        "                500.0, 340.0, 600.0, 600.0, 700.0, 700.0, 610.0, 650.0, 575.0, 685.0, 620.0, 680.0, \n",
        "                700.0, 725.0, 720.0, 714.0, 850.0, 1000.0, 920.0, 955.0, 925.0, 975.0, 950.0, 6.7, \n",
        "                7.5, 7.0, 9.7, 9.8, 8.7, 10.0, 9.9, 9.8, 12.2, 13.4, 12.2, 19.7, 19.9]"
      ],
      "execution_count": 17,
      "outputs": []
    },
    {
      "cell_type": "code",
      "metadata": {
        "id": "91kXIBYhDNn8"
      },
      "source": [
        "import numpy as np\n"
      ],
      "execution_count": null,
      "outputs": []
    }
  ]
}